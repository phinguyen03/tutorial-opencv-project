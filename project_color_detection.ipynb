{
 "cells": [
  {
   "cell_type": "code",
   "execution_count": 17,
   "metadata": {},
   "outputs": [],
   "source": [
    "import cv2 \n",
    "import numpy as np\n",
    "from PIL import Image"
   ]
  },
  {
   "cell_type": "code",
   "execution_count": 5,
   "metadata": {},
   "outputs": [],
   "source": [
    "from util import get_limits"
   ]
  },
  {
   "cell_type": "code",
   "execution_count": 32,
   "metadata": {},
   "outputs": [],
   "source": [
    "blue=[255, 0, 0] #range of black color\n",
    "cap=cv2.VideoCapture(0)\n",
    "while True:\n",
    "    ret,frame=cap.read()\n",
    "    #frame bgr to hsv\n",
    "    hsv_blue=cv2.cvtColor(frame,cv2.COLOR_BGR2HSV)\n",
    "\n",
    "    lowerLimit,upperLimit=get_limits(color=blue)\n",
    "\n",
    "    mask=cv2.inRange(hsv_blue,lowerLimit,upperLimit)\n",
    "    \n",
    "    mask_=Image.fromarray(mask)\n",
    "    \n",
    "    box=mask_.getbbox()\n",
    "    # print(box) #check if None when it recognize nothing\n",
    "\n",
    " #check if box not None at that time we have gotten object on the webcam then it drawn a rectangle\n",
    "    if box is not None:\n",
    "        x1,y1,w,h=box\n",
    "\n",
    "        cv2.rectangle(frame,(x1,y1),(w,h),(0,255,0),5)\n",
    "\n",
    "    # cv2.imshow('frame',result)\n",
    "    cv2.imshow('mask',frame)\n",
    "    if cv2.waitKey(10) & 0xff==ord('q'):\n",
    "        break\n",
    "cap.release()\n",
    "cv2.destroyAllWindows()\n"
   ]
  }
 ],
 "metadata": {
  "kernelspec": {
   "display_name": "Python 3",
   "language": "python",
   "name": "python3"
  },
  "language_info": {
   "codemirror_mode": {
    "name": "ipython",
    "version": 3
   },
   "file_extension": ".py",
   "mimetype": "text/x-python",
   "name": "python",
   "nbconvert_exporter": "python",
   "pygments_lexer": "ipython3",
   "version": "3.11.4"
  }
 },
 "nbformat": 4,
 "nbformat_minor": 2
}
