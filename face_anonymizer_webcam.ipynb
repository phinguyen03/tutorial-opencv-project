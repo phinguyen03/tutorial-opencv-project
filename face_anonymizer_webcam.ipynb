{
 "cells": [
  {
   "cell_type": "code",
   "execution_count": 2,
   "metadata": {},
   "outputs": [],
   "source": [
    "import cv2\n",
    "import mediapipe as mp\n",
    "\n",
    "def process_img(img, face_detection):\n",
    "    # Your face detection code here\n",
    "    img_rgb = cv2.cvtColor(img, cv2.COLOR_BGR2RGB)\n",
    "    output = face_detection.process(img_rgb)\n",
    "\n",
    "    # print(output.detections) #the score value is point to accuracy ,get boudingbox (boudingrect value with width, height) and the keypoints value is using for landmask\n",
    "    if output.detections is not None:   #Cause if you detect animal face then it cannot(different object type) so you need if is not None\n",
    "        for detection in output.detections:\n",
    "            location_data = detection.location_data\n",
    "            bbox = location_data.relative_bounding_box\n",
    "\n",
    "            x1, y1, w, h = int(bbox.xmin * W), int(bbox.ymin * H), int(bbox.width * W), int(bbox.height * H)\n",
    "\n",
    "            # Blur faces\n",
    "            # cv2.rectangle(img,(x1,y1),(x1+w,y1+h),(0,255,0),10)   #recognize face by rectangle\n",
    "\n",
    "            img[y1:y1+h, x1:x1+w, :] = cv2.blur(img[y1:y1+h, x1:x1+w, :], (30, 30))\n",
    "            \n",
    "    return img\n",
    "\n",
    "# Open a connection to the webcam\n",
    "cap = cv2.VideoCapture(0)  # 0 corresponds to the default camera\n",
    "\n",
    "# Get the width and height of the frame\n",
    "W = int(cap.get(3)) #particularly value of capture, video..\n",
    "H = int(cap.get(4))\n",
    "\n",
    "# Detect faces\n",
    "mp_face_detection = mp.solutions.face_detection\n",
    "\n",
    "with mp_face_detection.FaceDetection(model_selection=0, min_detection_confidence=0.5) as face_detection:\n",
    "    while True:\n",
    "        # Read a frame from the webcam\n",
    "        ret, frame = cap.read()\n",
    "\n",
    "        # Process the frame\n",
    "        frame_processed = process_img(frame, face_detection)\n",
    "\n",
    "        \n",
    "        cv2.imshow('Webcam Face Anonymizer', frame_processed)\n",
    "\n",
    "        \n",
    "        if cv2.waitKey(1) & 0xFF == ord('q'):\n",
    "            break\n",
    "\n",
    "\n",
    "cap.release()\n",
    "cv2.destroyAllWindows()"
   ]
  }
 ],
 "metadata": {
  "kernelspec": {
   "display_name": "Python 3",
   "language": "python",
   "name": "python3"
  },
  "language_info": {
   "codemirror_mode": {
    "name": "ipython",
    "version": 3
   },
   "file_extension": ".py",
   "mimetype": "text/x-python",
   "name": "python",
   "nbconvert_exporter": "python",
   "pygments_lexer": "ipython3",
   "version": "3.11.4"
  }
 },
 "nbformat": 4,
 "nbformat_minor": 2
}
